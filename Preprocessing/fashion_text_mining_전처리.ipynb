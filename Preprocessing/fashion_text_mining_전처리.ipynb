{
  "nbformat": 4,
  "nbformat_minor": 0,
  "metadata": {
    "colab": {
      "provenance": []
    },
    "kernelspec": {
      "name": "python3",
      "display_name": "Python 3"
    },
    "language_info": {
      "name": "python"
    }
  },
  "cells": [
    {
      "cell_type": "code",
      "execution_count": 1,
      "metadata": {
        "id": "ZK-Jrgtltdzo"
      },
      "outputs": [],
      "source": [
        "import pandas as pd\n",
        "import numpy as np"
      ]
    },
    {
      "cell_type": "code",
      "source": [
        "def preprocessing(i):\n",
        "  print(i)\n",
        "  df = pd.read_csv(f'/content/drive/MyDrive/data/TM/text_to_sentence_{i}.csv')\n",
        "\n",
        "  df.head()\n",
        "  df.info()\n",
        "\n",
        "  df = df.drop_duplicates(subset='sentence')\n",
        "  df.info()\n",
        "\n",
        "  df['sentence'] = df['sentence'].apply(lambda x: x if len(x.split(' ')) > 3 else np.nan)\n",
        "  df = df.dropna()\n",
        "  df.info()\n",
        "\n",
        "  df.to_csv(f'/content/drive/MyDrive/data/TM/text_to_sentence_{i}_2.csv', index = False)\n"
      ],
      "metadata": {
        "id": "133Hclc1xhh6"
      },
      "execution_count": 9,
      "outputs": []
    },
    {
      "cell_type": "code",
      "source": [
        "preprocessing(1)"
      ],
      "metadata": {
        "colab": {
          "base_uri": "https://localhost:8080/"
        },
        "id": "O8vnzZwu0gf2",
        "outputId": "a6b16f46-c8b2-4d4e-dfcb-007a8b768062"
      },
      "execution_count": 10,
      "outputs": [
        {
          "output_type": "stream",
          "name": "stdout",
          "text": [
            "1\n",
            "<class 'pandas.core.frame.DataFrame'>\n",
            "RangeIndex: 44611 entries, 0 to 44610\n",
            "Data columns (total 4 columns):\n",
            " #   Column      Non-Null Count  Dtype \n",
            "---  ------      --------------  ----- \n",
            " 0   column_num  44611 non-null  int64 \n",
            " 1   sentence    44611 non-null  object\n",
            " 2   index       44611 non-null  int64 \n",
            " 3   overall     44611 non-null  int64 \n",
            "dtypes: int64(3), object(1)\n",
            "memory usage: 1.4+ MB\n",
            "<class 'pandas.core.frame.DataFrame'>\n",
            "Int64Index: 44611 entries, 0 to 44610\n",
            "Data columns (total 4 columns):\n",
            " #   Column      Non-Null Count  Dtype \n",
            "---  ------      --------------  ----- \n",
            " 0   column_num  44611 non-null  int64 \n",
            " 1   sentence    44611 non-null  object\n",
            " 2   index       44611 non-null  int64 \n",
            " 3   overall     44611 non-null  int64 \n",
            "dtypes: int64(3), object(1)\n",
            "memory usage: 1.7+ MB\n",
            "<class 'pandas.core.frame.DataFrame'>\n",
            "Int64Index: 44611 entries, 0 to 44610\n",
            "Data columns (total 4 columns):\n",
            " #   Column      Non-Null Count  Dtype \n",
            "---  ------      --------------  ----- \n",
            " 0   column_num  44611 non-null  int64 \n",
            " 1   sentence    44611 non-null  object\n",
            " 2   index       44611 non-null  int64 \n",
            " 3   overall     44611 non-null  int64 \n",
            "dtypes: int64(3), object(1)\n",
            "memory usage: 1.7+ MB\n"
          ]
        }
      ]
    },
    {
      "cell_type": "code",
      "source": [
        "preprocessing(2)"
      ],
      "metadata": {
        "colab": {
          "base_uri": "https://localhost:8080/"
        },
        "id": "obbVSvRYyr7_",
        "outputId": "c2ba081a-ce82-4a74-c964-201dcd412ab5"
      },
      "execution_count": 11,
      "outputs": [
        {
          "output_type": "stream",
          "name": "stdout",
          "text": [
            "2\n",
            "<class 'pandas.core.frame.DataFrame'>\n",
            "RangeIndex: 56794 entries, 0 to 56793\n",
            "Data columns (total 4 columns):\n",
            " #   Column      Non-Null Count  Dtype \n",
            "---  ------      --------------  ----- \n",
            " 0   column_num  56794 non-null  int64 \n",
            " 1   sentence    56794 non-null  object\n",
            " 2   index       56794 non-null  int64 \n",
            " 3   overall     56794 non-null  int64 \n",
            "dtypes: int64(3), object(1)\n",
            "memory usage: 1.7+ MB\n",
            "<class 'pandas.core.frame.DataFrame'>\n",
            "Int64Index: 52838 entries, 0 to 56793\n",
            "Data columns (total 4 columns):\n",
            " #   Column      Non-Null Count  Dtype \n",
            "---  ------      --------------  ----- \n",
            " 0   column_num  52838 non-null  int64 \n",
            " 1   sentence    52838 non-null  object\n",
            " 2   index       52838 non-null  int64 \n",
            " 3   overall     52838 non-null  int64 \n",
            "dtypes: int64(3), object(1)\n",
            "memory usage: 2.0+ MB\n",
            "<class 'pandas.core.frame.DataFrame'>\n",
            "Int64Index: 48731 entries, 0 to 56793\n",
            "Data columns (total 4 columns):\n",
            " #   Column      Non-Null Count  Dtype \n",
            "---  ------      --------------  ----- \n",
            " 0   column_num  48731 non-null  int64 \n",
            " 1   sentence    48731 non-null  object\n",
            " 2   index       48731 non-null  int64 \n",
            " 3   overall     48731 non-null  int64 \n",
            "dtypes: int64(3), object(1)\n",
            "memory usage: 1.9+ MB\n"
          ]
        }
      ]
    },
    {
      "cell_type": "code",
      "source": [
        "preprocessing(3)"
      ],
      "metadata": {
        "colab": {
          "base_uri": "https://localhost:8080/"
        },
        "id": "CPZKHSmn1LsZ",
        "outputId": "75c1519d-e187-4fe4-eeab-c60addb389cc"
      },
      "execution_count": 12,
      "outputs": [
        {
          "output_type": "stream",
          "name": "stdout",
          "text": [
            "3\n",
            "<class 'pandas.core.frame.DataFrame'>\n",
            "RangeIndex: 55426 entries, 0 to 55425\n",
            "Data columns (total 4 columns):\n",
            " #   Column      Non-Null Count  Dtype \n",
            "---  ------      --------------  ----- \n",
            " 0   column_num  55426 non-null  int64 \n",
            " 1   sentence    55426 non-null  object\n",
            " 2   index       55426 non-null  int64 \n",
            " 3   overall     55426 non-null  int64 \n",
            "dtypes: int64(3), object(1)\n",
            "memory usage: 1.7+ MB\n",
            "<class 'pandas.core.frame.DataFrame'>\n",
            "Int64Index: 52639 entries, 0 to 55421\n",
            "Data columns (total 4 columns):\n",
            " #   Column      Non-Null Count  Dtype \n",
            "---  ------      --------------  ----- \n",
            " 0   column_num  52639 non-null  int64 \n",
            " 1   sentence    52639 non-null  object\n",
            " 2   index       52639 non-null  int64 \n",
            " 3   overall     52639 non-null  int64 \n",
            "dtypes: int64(3), object(1)\n",
            "memory usage: 2.0+ MB\n",
            "<class 'pandas.core.frame.DataFrame'>\n",
            "Int64Index: 48793 entries, 0 to 55421\n",
            "Data columns (total 4 columns):\n",
            " #   Column      Non-Null Count  Dtype \n",
            "---  ------      --------------  ----- \n",
            " 0   column_num  48793 non-null  int64 \n",
            " 1   sentence    48793 non-null  object\n",
            " 2   index       48793 non-null  int64 \n",
            " 3   overall     48793 non-null  int64 \n",
            "dtypes: int64(3), object(1)\n",
            "memory usage: 1.9+ MB\n"
          ]
        }
      ]
    },
    {
      "cell_type": "code",
      "source": [
        "preprocessing(4)"
      ],
      "metadata": {
        "colab": {
          "base_uri": "https://localhost:8080/"
        },
        "id": "Now5sDzI1MhU",
        "outputId": "32400a17-e7ad-472c-f587-6ac59778b25d"
      },
      "execution_count": 13,
      "outputs": [
        {
          "output_type": "stream",
          "name": "stdout",
          "text": [
            "4\n",
            "<class 'pandas.core.frame.DataFrame'>\n",
            "RangeIndex: 57945 entries, 0 to 57944\n",
            "Data columns (total 4 columns):\n",
            " #   Column      Non-Null Count  Dtype \n",
            "---  ------      --------------  ----- \n",
            " 0   column_num  57945 non-null  int64 \n",
            " 1   sentence    57945 non-null  object\n",
            " 2   index       57945 non-null  int64 \n",
            " 3   overall     57945 non-null  int64 \n",
            "dtypes: int64(3), object(1)\n",
            "memory usage: 1.8+ MB\n",
            "<class 'pandas.core.frame.DataFrame'>\n",
            "Int64Index: 53611 entries, 0 to 57944\n",
            "Data columns (total 4 columns):\n",
            " #   Column      Non-Null Count  Dtype \n",
            "---  ------      --------------  ----- \n",
            " 0   column_num  53611 non-null  int64 \n",
            " 1   sentence    53611 non-null  object\n",
            " 2   index       53611 non-null  int64 \n",
            " 3   overall     53611 non-null  int64 \n",
            "dtypes: int64(3), object(1)\n",
            "memory usage: 2.0+ MB\n",
            "<class 'pandas.core.frame.DataFrame'>\n",
            "Int64Index: 48964 entries, 0 to 57944\n",
            "Data columns (total 4 columns):\n",
            " #   Column      Non-Null Count  Dtype \n",
            "---  ------      --------------  ----- \n",
            " 0   column_num  48964 non-null  int64 \n",
            " 1   sentence    48964 non-null  object\n",
            " 2   index       48964 non-null  int64 \n",
            " 3   overall     48964 non-null  int64 \n",
            "dtypes: int64(3), object(1)\n",
            "memory usage: 1.9+ MB\n"
          ]
        }
      ]
    },
    {
      "cell_type": "code",
      "source": [
        "preprocessing(5)"
      ],
      "metadata": {
        "colab": {
          "base_uri": "https://localhost:8080/"
        },
        "id": "fvAKatwy1OnS",
        "outputId": "fc334c24-c56f-4c8d-c755-e0bc47de23f2"
      },
      "execution_count": 14,
      "outputs": [
        {
          "output_type": "stream",
          "name": "stdout",
          "text": [
            "5\n",
            "<class 'pandas.core.frame.DataFrame'>\n",
            "RangeIndex: 52939 entries, 0 to 52938\n",
            "Data columns (total 4 columns):\n",
            " #   Column      Non-Null Count  Dtype \n",
            "---  ------      --------------  ----- \n",
            " 0   column_num  52939 non-null  int64 \n",
            " 1   sentence    52939 non-null  object\n",
            " 2   index       52939 non-null  int64 \n",
            " 3   overall     52939 non-null  int64 \n",
            "dtypes: int64(3), object(1)\n",
            "memory usage: 1.6+ MB\n",
            "<class 'pandas.core.frame.DataFrame'>\n",
            "Int64Index: 44938 entries, 0 to 52938\n",
            "Data columns (total 4 columns):\n",
            " #   Column      Non-Null Count  Dtype \n",
            "---  ------      --------------  ----- \n",
            " 0   column_num  44938 non-null  int64 \n",
            " 1   sentence    44938 non-null  object\n",
            " 2   index       44938 non-null  int64 \n",
            " 3   overall     44938 non-null  int64 \n",
            "dtypes: int64(3), object(1)\n",
            "memory usage: 1.7+ MB\n",
            "<class 'pandas.core.frame.DataFrame'>\n",
            "Int64Index: 39003 entries, 0 to 52938\n",
            "Data columns (total 4 columns):\n",
            " #   Column      Non-Null Count  Dtype \n",
            "---  ------      --------------  ----- \n",
            " 0   column_num  39003 non-null  int64 \n",
            " 1   sentence    39003 non-null  object\n",
            " 2   index       39003 non-null  int64 \n",
            " 3   overall     39003 non-null  int64 \n",
            "dtypes: int64(3), object(1)\n",
            "memory usage: 1.5+ MB\n"
          ]
        }
      ]
    },
    {
      "cell_type": "code",
      "source": [],
      "metadata": {
        "id": "FpCffA1y1RTc"
      },
      "execution_count": null,
      "outputs": []
    }
  ]
}